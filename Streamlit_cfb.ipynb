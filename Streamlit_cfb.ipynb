{
 "cells": [
  {
   "cell_type": "code",
   "execution_count": 17,
   "id": "b951d695-6a80-4ab7-8287-b38c2e581b70",
   "metadata": {},
   "outputs": [
    {
     "name": "stdout",
     "output_type": "stream",
     "text": [
      "Note: you may need to restart the kernel to use updated packages.\n"
     ]
    },
    {
     "name": "stderr",
     "output_type": "stream",
     "text": [
      "WARNING: Ignoring invalid distribution -ensorflow-intel (c:\\users\\lucas\\onedrive\\python\\venv\\lib\\site-packages)\n"
     ]
    }
   ],
   "source": [
    "#%pip install streamlit\n",
    "import streamlit as st\n",
    "import pandas as pd\n",
    "import os\n",
    "import plotly.graph_objects as go\n",
    "import html\n",
    "\n",
    "#%pip freeze > \"requirements.txt\"\n",
    "\n",
    "# Set the week number\n",
    "week = 10"
   ]
  },
  {
   "cell_type": "code",
   "execution_count": 19,
   "id": "5deb77ed-d59e-4df1-951e-eaa7590727e6",
   "metadata": {},
   "outputs": [
    {
     "ename": "NameError",
     "evalue": "name '__file__' is not defined",
     "output_type": "error",
     "traceback": [
      "\u001b[1;31m---------------------------------------------------------------------------\u001b[0m",
      "\u001b[1;31mNameError\u001b[0m                                 Traceback (most recent call last)",
      "Cell \u001b[1;32mIn[19], line 2\u001b[0m\n\u001b[0;32m      1\u001b[0m \u001b[38;5;66;03m# Set up directory and read in the data\u001b[39;00m\n\u001b[1;32m----> 2\u001b[0m current_dir \u001b[38;5;241m=\u001b[39m os\u001b[38;5;241m.\u001b[39mpath\u001b[38;5;241m.\u001b[39mdirname(\u001b[38;5;18;43m__file__\u001b[39;49m)\n\u001b[0;32m      3\u001b[0m data_path \u001b[38;5;241m=\u001b[39m os\u001b[38;5;241m.\u001b[39mpath\u001b[38;5;241m.\u001b[39mjoin(current_dir, \u001b[38;5;124m'\u001b[39m\u001b[38;5;124mdata\u001b[39m\u001b[38;5;124m'\u001b[39m, \u001b[38;5;124mf\u001b[39m\u001b[38;5;124m'\u001b[39m\u001b[38;5;124mWeek \u001b[39m\u001b[38;5;132;01m{\u001b[39;00mweek\u001b[38;5;132;01m}\u001b[39;00m\u001b[38;5;124m_no_outcomes.xlsx\u001b[39m\u001b[38;5;124m'\u001b[39m)\n\u001b[0;32m      5\u001b[0m \u001b[38;5;66;03m# Load data\u001b[39;00m\n",
      "\u001b[1;31mNameError\u001b[0m: name '__file__' is not defined"
     ]
    }
   ],
   "source": [
    "# Set up directory and read in the data\n",
    "current_dir = os.path.dirname(__file__)\n",
    "data_path = os.path.join(current_dir, 'data', f'Week {week}_no_outcomes.xlsx')\n",
    "\n",
    "# Load data\n",
    "df = pd.read_excel(data_path)\n",
    "df = df.sort_values(by='home_team')\n",
    "\n",
    "# Generate list of games\n",
    "df['game_for_list'] = [f\"{away} @ {home}\" for home, away in zip(df['home_team'], df['away_team'])]\n",
    "\n",
    "# Page title\n",
    "st.title(f'Week {week} games and predictions')\n",
    "\n",
    "# Selection box to choose game\n",
    "selected_game = st.selectbox('Game: ', df['game_for_list'])\n",
    "\n",
    "df2 = df[df['game_for_list']==selected_game]"
   ]
  },
  {
   "cell_type": "code",
   "execution_count": 20,
   "id": "fed0d20e-1880-4e66-85ba-f86841519a13",
   "metadata": {},
   "outputs": [
    {
     "ename": "NameError",
     "evalue": "name 'df' is not defined",
     "output_type": "error",
     "traceback": [
      "\u001b[1;31m---------------------------------------------------------------------------\u001b[0m",
      "\u001b[1;31mNameError\u001b[0m                                 Traceback (most recent call last)",
      "Cell \u001b[1;32mIn[20], line 4\u001b[0m\n\u001b[0;32m      1\u001b[0m \u001b[38;5;66;03m#Make graph\u001b[39;00m\n\u001b[0;32m      2\u001b[0m \u001b[38;5;66;03m# Example data\u001b[39;00m\n\u001b[0;32m      3\u001b[0m \u001b[38;5;66;03m# Assuming 'df' contains columns 'prediction', 'upper', and 'lower'\u001b[39;00m\n\u001b[1;32m----> 4\u001b[0m prediction \u001b[38;5;241m=\u001b[39m \u001b[43mdf\u001b[49m[\u001b[38;5;124m'\u001b[39m\u001b[38;5;124mProbability of home win\u001b[39m\u001b[38;5;124m'\u001b[39m]\u001b[38;5;241m.\u001b[39miloc[\u001b[38;5;241m0\u001b[39m]  \u001b[38;5;66;03m# Select the first row's prediction for example\u001b[39;00m\n\u001b[0;32m      5\u001b[0m upper \u001b[38;5;241m=\u001b[39m df[\u001b[38;5;124m'\u001b[39m\u001b[38;5;124mUpper bound of probability\u001b[39m\u001b[38;5;124m'\u001b[39m]\u001b[38;5;241m.\u001b[39miloc[\u001b[38;5;241m0\u001b[39m]\n\u001b[0;32m      6\u001b[0m lower \u001b[38;5;241m=\u001b[39m df[\u001b[38;5;124m'\u001b[39m\u001b[38;5;124mLower bound of probability\u001b[39m\u001b[38;5;124m'\u001b[39m]\u001b[38;5;241m.\u001b[39miloc[\u001b[38;5;241m0\u001b[39m]\n",
      "\u001b[1;31mNameError\u001b[0m: name 'df' is not defined"
     ]
    }
   ],
   "source": [
    "# Example data\n",
    "# Assuming 'df2' contains columns 'home_team', 'Probability of home win', 'Upper bound of probability', and 'Lower bound of probability'\n",
    "home_team = df2['home_team'].iloc[0]\n",
    "away_team = df2['away_team'].iloc[0]\n",
    "prediction = df2['Probability of home win'].iloc[0]\n",
    "upper = df2['Upper bound of probability'].iloc[0]\n",
    "lower = df2['Lower bound of probability'].iloc[0]\n",
    "home_moneyline = df2['home_moneyline']\n",
    "away_moneyline = df2['away_moneyline']\n",
    "\n",
    "# Initialize the figure\n",
    "fig = go.Figure()\n",
    "\n",
    "# Add horizontal bar representing the home team win probability only\n",
    "fig.add_trace(go.Bar(\n",
    "    x=[prediction],\n",
    "    y=[f\"{home_team} Win Probability\"],\n",
    "    orientation='h',\n",
    "    marker=dict(color='#66b3ff'),\n",
    "    showlegend=False\n",
    "))\n",
    "\n",
    "\n",
    "# Add an annotation just above the edge of the bar\n",
    "fig.add_annotation(\n",
    "    x=prediction,\n",
    "    y=0,\n",
    "    text=f\"{prediction:.0%}\",\n",
    "    showarrow=False,\n",
    "    yshift=55,  # Adjusts the text position above the bar,\n",
    "    font=dict(color=\"black\")\n",
    ")\n",
    "\n",
    "\n",
    "# Add dotted lines for upper and lower estimates\n",
    "fig.add_shape(\n",
    "    type=\"line\",\n",
    "    x0=upper, x1=upper,\n",
    "    y0=-0.5, y1=0.5,\n",
    "    line=dict(color=\"red\", width=2, dash=\"dot\"),\n",
    ")\n",
    "\n",
    "fig.add_shape(\n",
    "    type=\"line\",\n",
    "    x0=lower, x1=lower,\n",
    "    y0=-0.5, y1=0.5,\n",
    "    line=dict(color=\"green\", width=2, dash=\"dot\"),\n",
    ")\n",
    "\n",
    "# Add annotations for upper and lower estimates\n",
    "fig.add_annotation(\n",
    "    x=upper,\n",
    "    y=0,\n",
    "    text=f\"Upper-bound: {upper:.0%}\",\n",
    "    showarrow=True,\n",
    "    arrowhead=2,\n",
    "    ax=55, ay=-30,\n",
    "    font=dict(color=\"red\")\n",
    ")\n",
    "\n",
    "fig.add_annotation(\n",
    "    x=lower,\n",
    "    y=0,\n",
    "    text=f\"Lower-bound: {lower:.0%}\",\n",
    "    showarrow=True,\n",
    "    arrowhead=2,\n",
    "    ax=-55, ay=-30,\n",
    "    font=dict(color=\"green\")\n",
    ")\n",
    "\n",
    "# Set layout with percentage formatting on x-axis\n",
    "fig.update_layout(\n",
    "    title=f\"Predicted Probability of Home Team ({home_team}) Win\",\n",
    "    xaxis=dict(range=[-.19, 1.19], title=\"Probability\", tickformat=\".0%\"),\n",
    "    height=300,\n",
    "    yaxis=dict(showticklabels=True)\n",
    ")\n",
    "\n",
    "if int(home_moneyline)>0:\n",
    "    home_moneyline = \"+\" + str(int(home_moneyline))\n",
    "else:\n",
    "    home_moneyline = str(int(home_moneyline))\n",
    "\n",
    "if (prediction>.5 and lower>.5) or (prediction<.5 and lower<.5):\n",
    "    st.html(f\"<p>{home_team} ({home_moneyline}) has a <b><span style='font-size:125%;'>{prediction:.0%}</span></b> chance of winning, with a lower-bound estimate of <span style='color:red;'>{lower:.0%}</span> and an upper-bound estimate of <span style='color:green;'>{upper:.0%}</span>.</p>\")\n",
    "else:\n",
    "    st.html(f\"<p>This game is projected as a <b><span style='font-size:125%;'>toss-up</span></b>.</p>\")\n",
    "\n",
    "# Display the chart in Streamlit\n",
    "st.plotly_chart(fig)"
   ]
  },
  {
   "cell_type": "code",
   "execution_count": null,
   "id": "1a7c700c-ef30-4683-9320-1396c12e084b",
   "metadata": {},
   "outputs": [],
   "source": []
  }
 ],
 "metadata": {
  "kernelspec": {
   "display_name": "Python 3 (ipykernel)",
   "language": "python",
   "name": "python3"
  },
  "language_info": {
   "codemirror_mode": {
    "name": "ipython",
    "version": 3
   },
   "file_extension": ".py",
   "mimetype": "text/x-python",
   "name": "python",
   "nbconvert_exporter": "python",
   "pygments_lexer": "ipython3",
   "version": "3.10.2"
  },
  "widgets": {
   "application/vnd.jupyter.widget-state+json": {
    "state": {},
    "version_major": 2,
    "version_minor": 0
   }
  }
 },
 "nbformat": 4,
 "nbformat_minor": 5
}
