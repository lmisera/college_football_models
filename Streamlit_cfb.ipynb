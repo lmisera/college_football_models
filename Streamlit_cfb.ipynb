{
 "cells": [
  {
   "cell_type": "code",
   "execution_count": 16,
   "id": "b951d695-6a80-4ab7-8287-b38c2e581b70",
   "metadata": {},
   "outputs": [
    {
     "name": "stderr",
     "output_type": "stream",
     "text": [
      "WARNING: Ignoring invalid distribution -ensorflow-intel (c:\\users\\lucas\\onedrive\\python\\venv\\lib\\site-packages)\n",
      "2024-10-28 09:27:29.806 Thread 'MainThread': missing ScriptRunContext! This warning can be ignored when running in bare mode.\n",
      "2024-10-28 09:27:29.807 Thread 'MainThread': missing ScriptRunContext! This warning can be ignored when running in bare mode.\n",
      "2024-10-28 09:27:29.807 Thread 'MainThread': missing ScriptRunContext! This warning can be ignored when running in bare mode.\n",
      "2024-10-28 09:27:29.808 Thread 'MainThread': missing ScriptRunContext! This warning can be ignored when running in bare mode.\n"
     ]
    },
    {
     "name": "stdout",
     "output_type": "stream",
     "text": [
      "Note: you may need to restart the kernel to use updated packages.\n"
     ]
    }
   ],
   "source": [
    "#%pip install streamlit\n",
    "import streamlit as st\n",
    "import pandas as pd\n",
    "import os\n",
    "\n",
    "%pip freeze > \"requirements.txt\"\n",
    "\n",
    "# Set the week number\n",
    "week = 10\n",
    "\n",
    "st.write(f\"AHHHHHHHHHH {week}\")"
   ]
  },
  {
   "cell_type": "code",
   "execution_count": 4,
   "id": "5deb77ed-d59e-4df1-951e-eaa7590727e6",
   "metadata": {},
   "outputs": [
    {
     "data": {
      "text/plain": [
       "'\\n# Set up directory and read in the data\\ncurrent_dir = os.path.dirname(__file__)\\ndata_path = os.path.join(current_dir, \\'data\\', f\\'Week {week}_no_outcomes.xlsx\\')\\n\\n# Load data\\ndf = pd.read_excel(data_path)\\n\\n# Generate list of games\\ndf[\\'game_for_list\\'] = [f\"{away} @ {home}\" for home, away in zip(df[\\'home_team\\'], df[\\'away_team\\'])]\\n\\n# Page title\\nst.title(f\\'Week {week} games and predictions\\')\\n\\n# Selection box to choose game\\nselected_game = st.selectbox(\\'Game: \\', df[\\'game_for_list\\'])\\n'"
      ]
     },
     "execution_count": 4,
     "metadata": {},
     "output_type": "execute_result"
    }
   ],
   "source": [
    "\"\"\"\n",
    "\n",
    "# Set up directory and read in the data\n",
    "current_dir = os.path.dirname(__file__)\n",
    "data_path = os.path.join(current_dir, 'data', f'Week {week}_no_outcomes.xlsx')\n",
    "\n",
    "# Load data\n",
    "df = pd.read_excel(data_path)\n",
    "\n",
    "# Generate list of games\n",
    "df['game_for_list'] = [f\"{away} @ {home}\" for home, away in zip(df['home_team'], df['away_team'])]\n",
    "\n",
    "# Page title\n",
    "st.title(f'Week {week} games and predictions')\n",
    "\n",
    "# Selection box to choose game\n",
    "selected_game = st.selectbox('Game: ', df['game_for_list'])\n",
    "\n",
    "\"\"\""
   ]
  }
 ],
 "metadata": {
  "kernelspec": {
   "display_name": "Python 3 (ipykernel)",
   "language": "python",
   "name": "python3"
  },
  "language_info": {
   "codemirror_mode": {
    "name": "ipython",
    "version": 3
   },
   "file_extension": ".py",
   "mimetype": "text/x-python",
   "name": "python",
   "nbconvert_exporter": "python",
   "pygments_lexer": "ipython3",
   "version": "3.10.2"
  },
  "widgets": {
   "application/vnd.jupyter.widget-state+json": {
    "state": {},
    "version_major": 2,
    "version_minor": 0
   }
  }
 },
 "nbformat": 4,
 "nbformat_minor": 5
}
