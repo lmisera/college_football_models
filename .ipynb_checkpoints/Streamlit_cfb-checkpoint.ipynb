{
 "cells": [
  {
   "cell_type": "code",
   "execution_count": 28,
   "id": "b951d695-6a80-4ab7-8287-b38c2e581b70",
   "metadata": {},
   "outputs": [
    {
     "ename": "TypeError",
     "evalue": "'>' not supported between instances of 'module' and 'str'",
     "output_type": "error",
     "traceback": [
      "\u001b[1;31m---------------------------------------------------------------------------\u001b[0m",
      "\u001b[1;31mTypeError\u001b[0m                                 Traceback (most recent call last)",
      "Cell \u001b[1;32mIn[28], line 7\u001b[0m\n\u001b[0;32m      5\u001b[0m \u001b[38;5;66;03m#%pip install pipreqs\u001b[39;00m\n\u001b[0;32m      6\u001b[0m \u001b[38;5;28;01mimport\u001b[39;00m \u001b[38;5;21;01mpipreqs\u001b[39;00m\n\u001b[1;32m----> 7\u001b[0m \u001b[43mpipreqs\u001b[49m\u001b[43m \u001b[49m\u001b[38;5;241;43m>\u001b[39;49m\u001b[43m \u001b[49m\u001b[38;5;124;43m\"\u001b[39;49m\u001b[38;5;124;43mC:/Users/Lucas/OneDrive/python/College football/Streamlit application/requirements.txt\u001b[39;49m\u001b[38;5;124;43m\"\u001b[39;49m\n\u001b[0;32m      9\u001b[0m week \u001b[38;5;241m=\u001b[39m \u001b[38;5;241m10\u001b[39m\n",
      "\u001b[1;31mTypeError\u001b[0m: '>' not supported between instances of 'module' and 'str'"
     ]
    }
   ],
   "source": [
    "import streamlit as st\n",
    "import pandas as pd\n",
    "import plotly.graph_objects as go\n",
    "import os\n",
    "#%pip install pipreqs\n",
    "import pipreqs\n",
    "#pipreqs > \"C:/Users/Lucas/OneDrive/python/College football/Streamlit application/requirements.txt\"\n",
    "\n",
    "week = 10"
   ]
  },
  {
   "cell_type": "code",
   "execution_count": 6,
   "id": "5deb77ed-d59e-4df1-951e-eaa7590727e6",
   "metadata": {},
   "outputs": [
    {
     "ename": "NameError",
     "evalue": "name '__file__' is not defined",
     "output_type": "error",
     "traceback": [
      "\u001b[1;31m---------------------------------------------------------------------------\u001b[0m",
      "\u001b[1;31mNameError\u001b[0m                                 Traceback (most recent call last)",
      "Cell \u001b[1;32mIn[6], line 2\u001b[0m\n\u001b[0;32m      1\u001b[0m \u001b[38;5;66;03m#Set up directory, read in week\u001b[39;00m\n\u001b[1;32m----> 2\u001b[0m current_dir \u001b[38;5;241m=\u001b[39m os\u001b[38;5;241m.\u001b[39mpath\u001b[38;5;241m.\u001b[39mdirname(\u001b[38;5;18;43m__file__\u001b[39;49m)\n\u001b[0;32m      3\u001b[0m data_path \u001b[38;5;241m=\u001b[39m os\u001b[38;5;241m.\u001b[39mpath\u001b[38;5;241m.\u001b[39mjoin(current_dir, \u001b[38;5;124m'\u001b[39m\u001b[38;5;124mdata\u001b[39m\u001b[38;5;124m'\u001b[39m, \u001b[38;5;124mf\u001b[39m\u001b[38;5;124m'\u001b[39m\u001b[38;5;124mWeek \u001b[39m\u001b[38;5;132;01m{\u001b[39;00mweek\u001b[38;5;132;01m}\u001b[39;00m\u001b[38;5;124m_no_outcomes.xlsx\u001b[39m\u001b[38;5;124m'\u001b[39m)\n\u001b[0;32m      5\u001b[0m \u001b[38;5;66;03m#get list of games\u001b[39;00m\n",
      "\u001b[1;31mNameError\u001b[0m: name '__file__' is not defined"
     ]
    }
   ],
   "source": [
    "#Set up directory, read in week\n",
    "current_dir = os.path.dirname(__file__)\n",
    "data_path = os.path.join(current_dir, 'data', f'Week {week}_no_outcomes.xlsx')\n",
    "\n",
    "#get list of games\n",
    "list_of_games = []\n",
    "for home, away in zip(df['home_team'],df['away_team']):\n",
    "    list_of_games.append(f\"{away} @ {home}\")\n",
    "\n",
    "df['game_for_list'] = list_of_games\n",
    "\n",
    "#Page title\n",
    "st.title(f'Week {week} games and predictions')\n",
    "\n",
    "#Selection box to choose game\n",
    "selected_game = st.selectbox('Game: ', df['game_for_list'])"
   ]
  },
  {
   "cell_type": "code",
   "execution_count": null,
   "id": "f3a6de6f-4c39-440a-a010-1a0a2c31316c",
   "metadata": {},
   "outputs": [],
   "source": [
    "#To push as .py file\n",
    "#jupyter nbconvert --to script \"C:\\Users\\Lucas\\OneDrive\\python\\College football\\Streamlit application\\Streamlit_cfb.ipynb\"\n",
    "\n",
    "\n",
    "#To push a file to github via pycharm terminal\n",
    "#cd \"C:\\Users\\Lucas\\OneDrive\\python\\College football\\Streamlit application\"\n",
    "#git init\n",
    "#git remote remove origin\n",
    "#git remote add origin https://github.com/lmisera/cfb_predictions\n",
    "#git add \"C:\\Users\\Lucas\\OneDrive\\python\\College football\\Streamlit application\"\n",
    "#git commit -m \"Add initial file\"\n",
    "#git push -u origin main"
   ]
  }
 ],
 "metadata": {
  "kernelspec": {
   "display_name": "Python 3 (ipykernel)",
   "language": "python",
   "name": "python3"
  },
  "language_info": {
   "codemirror_mode": {
    "name": "ipython",
    "version": 3
   },
   "file_extension": ".py",
   "mimetype": "text/x-python",
   "name": "python",
   "nbconvert_exporter": "python",
   "pygments_lexer": "ipython3",
   "version": "3.10.2"
  },
  "widgets": {
   "application/vnd.jupyter.widget-state+json": {
    "state": {},
    "version_major": 2,
    "version_minor": 0
   }
  }
 },
 "nbformat": 4,
 "nbformat_minor": 5
}
