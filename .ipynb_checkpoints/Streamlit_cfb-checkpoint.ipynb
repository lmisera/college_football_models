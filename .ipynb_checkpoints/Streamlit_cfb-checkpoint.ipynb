{
 "cells": [
  {
   "cell_type": "code",
   "execution_count": 3,
   "id": "b951d695-6a80-4ab7-8287-b38c2e581b70",
   "metadata": {},
   "outputs": [
    {
     "data": {
      "text/plain": [
       "'\\n\\n%pip install streamlit\\nimport streamlit as st\\nimport pandas as pd\\nimport os\\n\\n# Set the week number\\nweek = 10\\n'"
      ]
     },
     "execution_count": 3,
     "metadata": {},
     "output_type": "execute_result"
    }
   ],
   "source": [
    "#%pip install streamlit\n",
    "import streamlit as st\n",
    "import pandas as pd\n",
    "import os\n",
    "\n",
    "# Set the week number\n",
    "week = 10\n"
   ]
  },
  {
   "cell_type": "code",
   "execution_count": 4,
   "id": "5deb77ed-d59e-4df1-951e-eaa7590727e6",
   "metadata": {},
   "outputs": [
    {
     "data": {
      "text/plain": [
       "'\\n# Set up directory and read in the data\\ncurrent_dir = os.path.dirname(__file__)\\ndata_path = os.path.join(current_dir, \\'data\\', f\\'Week {week}_no_outcomes.xlsx\\')\\n\\n# Load data\\ndf = pd.read_excel(data_path)\\n\\n# Generate list of games\\ndf[\\'game_for_list\\'] = [f\"{away} @ {home}\" for home, away in zip(df[\\'home_team\\'], df[\\'away_team\\'])]\\n\\n# Page title\\nst.title(f\\'Week {week} games and predictions\\')\\n\\n# Selection box to choose game\\nselected_game = st.selectbox(\\'Game: \\', df[\\'game_for_list\\'])\\n'"
      ]
     },
     "execution_count": 4,
     "metadata": {},
     "output_type": "execute_result"
    }
   ],
   "source": [
    "# Set up directory and read in the data\n",
    "current_dir = os.path.dirname(__file__)\n",
    "data_path = os.path.join(current_dir, 'data', f'Week {week}_no_outcomes.xlsx')\n",
    "\n",
    "# Load data\n",
    "df = pd.read_excel(data_path)\n",
    "\n",
    "# Generate list of games\n",
    "df['game_for_list'] = [f\"{away} @ {home}\" for home, away in zip(df['home_team'], df['away_team'])]\n",
    "\n",
    "# Page title\n",
    "st.title(f'Week {week} games and predictions')\n",
    "\n",
    "# Selection box to choose game\n",
    "selected_game = st.selectbox('Game: ', df['game_for_list'])"
   ]
  },
  {
   "cell_type": "code",
   "execution_count": 5,
   "id": "f3a6de6f-4c39-440a-a010-1a0a2c31316c",
   "metadata": {},
   "outputs": [],
   "source": [
    "#To push as .py file\n",
    "#jupyter nbconvert --to script \"C:\\Users\\Lucas\\OneDrive\\python\\College football\\Streamlit application\\Streamlit_cfb.ipynb\"\n",
    "\n",
    "\n",
    "#To push a file to github via pycharm terminal\n",
    "#cd \"C:\\Users\\Lucas\\OneDrive\\python\\College football\\Streamlit application\"\n",
    "#git init\n",
    "#git remote remove origin\n",
    "#git remote add origin https://github.com/lmisera/cfb_predictions\n",
    "#git add \"C:\\Users\\Lucas\\OneDrive\\python\\College football\\Streamlit application\"\n",
    "#git commit -m \"Add initial file\"\n",
    "#git push -u origin main"
   ]
  }
 ],
 "metadata": {
  "kernelspec": {
   "display_name": "Python 3 (ipykernel)",
   "language": "python",
   "name": "python3"
  },
  "language_info": {
   "codemirror_mode": {
    "name": "ipython",
    "version": 3
   },
   "file_extension": ".py",
   "mimetype": "text/x-python",
   "name": "python",
   "nbconvert_exporter": "python",
   "pygments_lexer": "ipython3",
   "version": "3.10.2"
  },
  "widgets": {
   "application/vnd.jupyter.widget-state+json": {
    "state": {},
    "version_major": 2,
    "version_minor": 0
   }
  }
 },
 "nbformat": 4,
 "nbformat_minor": 5
}
