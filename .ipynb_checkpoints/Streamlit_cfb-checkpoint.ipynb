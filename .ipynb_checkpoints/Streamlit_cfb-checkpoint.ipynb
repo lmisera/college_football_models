{
 "cells": [
  {
   "cell_type": "code",
   "execution_count": 17,
   "id": "b951d695-6a80-4ab7-8287-b38c2e581b70",
   "metadata": {},
   "outputs": [
    {
     "name": "stdout",
     "output_type": "stream",
     "text": [
      "Note: you may need to restart the kernel to use updated packages.\n"
     ]
    },
    {
     "name": "stderr",
     "output_type": "stream",
     "text": [
      "WARNING: Ignoring invalid distribution -ensorflow-intel (c:\\users\\lucas\\onedrive\\python\\venv\\lib\\site-packages)\n"
     ]
    }
   ],
   "source": [
    "#%pip install streamlit\n",
    "import streamlit as st\n",
    "import pandas as pd\n",
    "import os\n",
    "\n",
    "%pip freeze > \"requirements.txt\"\n",
    "\n",
    "# Set the week number\n",
    "week = 10"
   ]
  },
  {
   "cell_type": "code",
   "execution_count": 18,
   "id": "5deb77ed-d59e-4df1-951e-eaa7590727e6",
   "metadata": {},
   "outputs": [
    {
     "ename": "NameError",
     "evalue": "name '__file__' is not defined",
     "output_type": "error",
     "traceback": [
      "\u001b[1;31m---------------------------------------------------------------------------\u001b[0m",
      "\u001b[1;31mNameError\u001b[0m                                 Traceback (most recent call last)",
      "Cell \u001b[1;32mIn[18], line 2\u001b[0m\n\u001b[0;32m      1\u001b[0m \u001b[38;5;66;03m# Set up directory and read in the data\u001b[39;00m\n\u001b[1;32m----> 2\u001b[0m current_dir \u001b[38;5;241m=\u001b[39m os\u001b[38;5;241m.\u001b[39mpath\u001b[38;5;241m.\u001b[39mdirname(\u001b[38;5;18;43m__file__\u001b[39;49m)\n\u001b[0;32m      3\u001b[0m data_path \u001b[38;5;241m=\u001b[39m os\u001b[38;5;241m.\u001b[39mpath\u001b[38;5;241m.\u001b[39mjoin(current_dir, \u001b[38;5;124m'\u001b[39m\u001b[38;5;124mdata\u001b[39m\u001b[38;5;124m'\u001b[39m, \u001b[38;5;124mf\u001b[39m\u001b[38;5;124m'\u001b[39m\u001b[38;5;124mWeek \u001b[39m\u001b[38;5;132;01m{\u001b[39;00mweek\u001b[38;5;132;01m}\u001b[39;00m\u001b[38;5;124m_no_outcomes.xlsx\u001b[39m\u001b[38;5;124m'\u001b[39m)\n\u001b[0;32m      5\u001b[0m \u001b[38;5;66;03m# Load data\u001b[39;00m\n",
      "\u001b[1;31mNameError\u001b[0m: name '__file__' is not defined"
     ]
    }
   ],
   "source": [
    "# Set up directory and read in the data\n",
    "current_dir = os.path.dirname(__file__)\n",
    "data_path = os.path.join(current_dir, 'data', f'Week {week}_no_outcomes.xlsx')\n",
    "\n",
    "# Load data\n",
    "df = pd.read_excel(data_path)\n",
    "\n",
    "# Generate list of games\n",
    "df['game_for_list'] = [f\"{away} @ {home}\" for home, away in zip(df['home_team'], df['away_team'])]\n",
    "\n",
    "# Page title\n",
    "st.title(f'Week {week} games and predictions')\n",
    "\n",
    "# Selection box to choose game\n",
    "selected_game = st.selectbox('Game: ', df['game_for_list'])"
   ]
  },
  {
   "cell_type": "code",
   "execution_count": null,
   "id": "fed0d20e-1880-4e66-85ba-f86841519a13",
   "metadata": {},
   "outputs": [],
   "source": []
  }
 ],
 "metadata": {
  "kernelspec": {
   "display_name": "Python 3 (ipykernel)",
   "language": "python",
   "name": "python3"
  },
  "language_info": {
   "codemirror_mode": {
    "name": "ipython",
    "version": 3
   },
   "file_extension": ".py",
   "mimetype": "text/x-python",
   "name": "python",
   "nbconvert_exporter": "python",
   "pygments_lexer": "ipython3",
   "version": "3.10.2"
  },
  "widgets": {
   "application/vnd.jupyter.widget-state+json": {
    "state": {},
    "version_major": 2,
    "version_minor": 0
   }
  }
 },
 "nbformat": 4,
 "nbformat_minor": 5
}
